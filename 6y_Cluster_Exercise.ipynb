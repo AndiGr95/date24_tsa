{
 "cells": [
  {
   "attachments": {},
   "cell_type": "markdown",
   "metadata": {},
   "source": [
    "# Exercise in Clustering (Solutions)\n",
    "\n",
    "In the code you will see:\n",
    "\n",
    "> &nbsp;  \n",
    "> \\# YOUR CODE HERE  \n",
    "> ...\n",
    "> <br><br>\n",
    "\n",
    "Insert your code to complete the exercise.\n",
    "\n",
    "<br><br>"
   ]
  },
  {
   "attachments": {},
   "cell_type": "markdown",
   "metadata": {},
   "source": [
    "### Exercise: Find number of iris types in iris dataset\n",
    "\n",
    "The `Iris` dataset contains 3 different subspecies of flowers:\n",
    "\n",
    "- Iris setosa\n",
    "- Iris versicolor\n",
    "- Iris viginica\n",
    "\n",
    "Does the dataset clearly reflect this or would an unbiased algorithm find a different number of species?\n",
    "\n",
    "Let's try cluster analysis to answer this."
   ]
  },
  {
   "cell_type": "code",
   "execution_count": null,
   "metadata": {},
   "outputs": [],
   "source": [
    "import numpy as np\n",
    "import matplotlib.pyplot as plt\n",
    "\n",
    "from sklearn.datasets import load_iris\n",
    "\n",
    "# YOUR CODE HERE\n",
    "\n",
    "# import KMeans, AffinityPropagation and DBSCAN\n",
    "\n",
    "# ---\n",
    "\n",
    "from sklearn.metrics import silhouette_score\n"
   ]
  },
  {
   "cell_type": "code",
   "execution_count": null,
   "metadata": {},
   "outputs": [],
   "source": [
    "# load data\n",
    "\n",
    "iris = load_iris()\n",
    "X = iris.data"
   ]
  },
  {
   "cell_type": "code",
   "execution_count": null,
   "metadata": {},
   "outputs": [],
   "source": [
    "# k-Means\n",
    "max_k = 5\n",
    "scores = {}\n",
    "inertias = {}\n",
    "\n",
    "for k in range(2, max_k+1):\n",
    "\n",
    "    # YOUR CODE HERE\n",
    "\n",
    "    # define and train a classifier km_cl\n",
    "    \n",
    "    # ---\n",
    "\n",
    "    inertias[k] = km_cl.inertia_\n",
    "    scores[k] = silhouette_score(X, km_cl.labels_, metric='euclidean')\n",
    "\n",
    "best = [i for i in scores.keys() if scores[i] == max(scores.values())][0]\n",
    "print(f\"Silhouette for k-Means suggests {best:0d} clusters\")"
   ]
  },
  {
   "cell_type": "code",
   "execution_count": null,
   "metadata": {},
   "outputs": [],
   "source": [
    "# visualize scores\n",
    "\n",
    "ss = np.array([list(scores.keys()), list(scores.values())]).T\n",
    "max_ss = max(ss[:, 1])\n",
    "best = [i for i, ss in enumerate(ss[:, 1]) if ss == max_ss][0]\n",
    "best_k, best_ss = ss[best, 0], ss[best, 1]\n",
    "\n",
    "inert = np.array([list(inertias.keys()), list(inertias.values())]).T\n",
    "best_k_inert, best_inert = inert[1, 0], inert[1, 1]\n",
    "fig, ax = plt.subplots(1, 2, figsize=(10, 4))\n",
    "\n",
    "ax[0].plot(ss[:, 1], ss[:, 0])\n",
    "ax[0].scatter(best_ss, best_k, c=\"white\", s=80, edgecolors=\"red\")\n",
    "ax[0].set_title(f\"Best silhouette score: {best_ss:.3f} for k={best_k:.0f}\")\n",
    "\n",
    "ax[1].plot(inert[:, 1], inert[:, 0])\n",
    "plt.scatter(best_inert, best_k_inert, c=\"white\", s=80, edgecolors=\"red\")\n",
    "ax[1].set_title(f\"Inertia: total variance changes most at k={best_k_inert:.0f}\")\n",
    "\n",
    "plt.yticks(list(scores.keys()))\n",
    "plt.show()\n"
   ]
  },
  {
   "attachments": {},
   "cell_type": "markdown",
   "metadata": {},
   "source": [
    "`Silhouette score` is the the distance of clusters ($b$) compared to the intra-cluster distance ($a$) of samples: $ ss = \\dfrac{(b - a)}{max(a, b)} $. It's a density score.\n",
    "\n",
    "`Inertia` is the weighted sum of squared distances of samples to theis closest cluster center. It's the variance of distances."
   ]
  },
  {
   "cell_type": "code",
   "execution_count": null,
   "metadata": {},
   "outputs": [],
   "source": [
    "if best_k != best_k_inert:\n",
    "    print(\"Silhouette score and inertia do not agree on the cluster size\")\n",
    "    print(f\"   Silhouette score: {best_k:0.0f}, inertia suggests: {best_k_inert:0.0f} clusters\")\n",
    "    print(f\"-> Choose number of clusters between {best_k:0.0f} or {best_k_inert:0.0f}\")\n",
    "else:\n",
    "    print(\"Silhouette score and inertia agree on the cluster size\")\n",
    "    print(f\"   Silhouette score: {best_k:0.0f}, inertia suggests: {best_k_inert:0.0f} clusters\")\n",
    "    print(f\"-> Number of clusters found: {best_k:0.0f}\")"
   ]
  },
  {
   "cell_type": "code",
   "execution_count": null,
   "metadata": {},
   "outputs": [],
   "source": [
    "# Affinity\n",
    "\n",
    "# YOUR CODE HERE\n",
    "\n",
    "# define an af classifier and return the number of clusters found in k_af\n",
    "\n",
    "# af =\n",
    "# k_af =\n",
    "\n",
    "# cluster_centers_indices = \n",
    "# labels = \n",
    "\n",
    "# ---\n",
    "\n",
    "print(f\"Affinity propagation finds {k_af} clusters\")\n"
   ]
  },
  {
   "cell_type": "code",
   "execution_count": null,
   "metadata": {},
   "outputs": [],
   "source": [
    "# visualize\n",
    "\n",
    "import seaborn as sns\n",
    "colors = sns.color_palette(\"tab10\")\n",
    "\n",
    "for c, col in zip(range(k_af), colors):\n",
    "    x = X[:, 0][af.labels_ == c]\n",
    "    y = X[:, 1][af.labels_ == c]\n",
    "    plt.scatter(af.cluster_centers_[c][0],\n",
    "                af.cluster_centers_[c][1],\n",
    "                s=80, color=col, edgecolors=\"#000000\")\n",
    "    plt.scatter(x, y, alpha=0.5, color=col)\n",
    "    for i in range(len(x)):\n",
    "        plt.plot([x[i], af.cluster_centers_[c][0]],\n",
    "                 [y[i], af.cluster_centers_[c][1]],\n",
    "                 alpha=0.5, color=col, linewidth=1.0)\n",
    "\n",
    "plt.title(f\"Estimated number of clusters: {k_af}\")\n",
    "plt.show()"
   ]
  },
  {
   "cell_type": "code",
   "execution_count": null,
   "metadata": {},
   "outputs": [],
   "source": [
    "# DBSCAN\n",
    "\n",
    "# YOUR CODE HERE\n",
    "\n",
    "dbs = None              # define and train\n",
    "labels = None           # get labels\n",
    "\n",
    "k_dbs = 0               # calculate clusters\n",
    "n_noise_ = 0            # return noisy data\n",
    "\n",
    "# ---\n",
    "\n",
    "print(f\"Estimated number of clusters: {k_dbs}\")\n",
    "print(f\"Estimated number of noise points: {n_noise_}\")\n"
   ]
  },
  {
   "cell_type": "code",
   "execution_count": null,
   "metadata": {},
   "outputs": [],
   "source": [
    "# visualize\n",
    "import seaborn as sns\n",
    "colors = sns.color_palette(\"tab10\")\n",
    "\n",
    "for c, col in zip(range(k_dbs), colors):\n",
    "    x = X[:, 0][labels == c]\n",
    "    y = X[:, 1][labels == c]\n",
    "    plt.scatter(x, y, s=20)\n",
    "plt.scatter(X[:, 0][labels == -1], X[:, 1][labels == -1], s=20, color=\"#666666\", alpha=0.5)\n",
    "plt.title(f\"DBSCAN finds k={k} clusters and {n_noise_} noise points\")\n",
    "plt.show()\n"
   ]
  },
  {
   "cell_type": "code",
   "execution_count": null,
   "metadata": {},
   "outputs": [],
   "source": [
    "print(\"\\nNumber of clusters found in IRIS dataset\\n\")\n",
    "print( \"            |        k-Means       | Affinity    | DBSCAN\")\n",
    "print( \"            | Silhouette | Inertia | Propagation |       \")\n",
    "print( \"------------+------------+---------+-------------+-------\")\n",
    "print(f\"# clusters  |      {best_k:0.0f}     |    {best_k_inert:0.0f}    |      {k_af}      |   {k_dbs}\")\n",
    "print(\"------------+------------+---------+-------------+-------\")\n"
   ]
  }
 ],
 "metadata": {
  "kernelspec": {
   "display_name": "venv",
   "language": "python",
   "name": "python3"
  },
  "language_info": {
   "codemirror_mode": {
    "name": "ipython",
    "version": 3
   },
   "file_extension": ".py",
   "mimetype": "text/x-python",
   "name": "python",
   "nbconvert_exporter": "python",
   "pygments_lexer": "ipython3",
   "version": "3.10.12"
  },
  "orig_nbformat": 4
 },
 "nbformat": 4,
 "nbformat_minor": 2
}
